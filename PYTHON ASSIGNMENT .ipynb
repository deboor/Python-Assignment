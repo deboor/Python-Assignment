{
 "cells": [
  {
   "cell_type": "code",
   "execution_count": 3,
   "metadata": {},
   "outputs": [
    {
     "data": {
      "text/plain": [
       "'Adebowale'"
      ]
     },
     "execution_count": 3,
     "metadata": {},
     "output_type": "execute_result"
    }
   ],
   "source": [
    "Y = 'adebowale'\n",
    "Y.capitalize()\n"
   ]
  },
  {
   "cell_type": "code",
   "execution_count": 11,
   "metadata": {},
   "outputs": [
    {
     "data": {
      "text/plain": [
       "'America'"
      ]
     },
     "execution_count": 11,
     "metadata": {},
     "output_type": "execute_result"
    }
   ],
   "source": [
    "x = 'america'\n",
    "x.capitalize()"
   ]
  },
  {
   "cell_type": "code",
   "execution_count": 12,
   "metadata": {},
   "outputs": [
    {
     "data": {
      "text/plain": [
       "'i adore you'"
      ]
     },
     "execution_count": 12,
     "metadata": {},
     "output_type": "execute_result"
    }
   ],
   "source": [
    "Y = 'I ADORE YOU'\n",
    "Y.casefold()"
   ]
  },
  {
   "cell_type": "code",
   "execution_count": 13,
   "metadata": {},
   "outputs": [
    {
     "data": {
      "text/plain": [
       "'fleeing eagles'"
      ]
     },
     "execution_count": 13,
     "metadata": {},
     "output_type": "execute_result"
    }
   ],
   "source": [
    "X = 'FLEEING EAGLES'\n",
    "X.casefold()"
   ]
  },
  {
   "cell_type": "code",
   "execution_count": 17,
   "metadata": {},
   "outputs": [
    {
     "data": {
      "text/plain": [
       "False"
      ]
     },
     "execution_count": 17,
     "metadata": {},
     "output_type": "execute_result"
    }
   ],
   "source": [
    "S = 'NN 450 MUS'\n",
    "S.isalpha()"
   ]
  },
  {
   "cell_type": "code",
   "execution_count": 24,
   "metadata": {},
   "outputs": [
    {
     "data": {
      "text/plain": [
       "False"
      ]
     },
     "execution_count": 24,
     "metadata": {},
     "output_type": "execute_result"
    }
   ],
   "source": [
    "T = 'AGO77238'\n",
    "T.isalpha()"
   ]
  },
  {
   "cell_type": "code",
   "execution_count": null,
   "metadata": {},
   "outputs": [],
   "source": []
  },
  {
   "cell_type": "code",
   "execution_count": null,
   "metadata": {},
   "outputs": [],
   "source": [
    "# Write a Python program to sum all the items in A\n",
    "A = [5, 8, 15, 7, 3]"
   ]
  },
  {
   "cell_type": "code",
   "execution_count": null,
   "metadata": {},
   "outputs": [],
   "source": [
    "# Write a program that prints the numbers from 1 to 100. But for multiples of three print “Multiples of 3” instead of the number\n",
    "and for the multiples of five print “Multiples of 5”.\n",
    "For numbers which are multiples of both three and five print “Multiples of 3 and 5”.                                                                \n"
   ]
  },
  {
   "cell_type": "code",
   "execution_count": 3,
   "metadata": {},
   "outputs": [
    {
     "name": "stdout",
     "output_type": "stream",
     "text": [
      "1\n",
      "2\n",
      "multiples of 3\n",
      "4\n",
      "multiples of 5\n",
      "multiples of 3\n",
      "7\n",
      "8\n",
      "multiples of 3\n",
      "multiples of 5\n",
      "11\n",
      "multiples of 3\n",
      "13\n",
      "14\n",
      "multiples of 3 and 5\n",
      "16\n",
      "17\n",
      "multiples of 3\n",
      "19\n",
      "multiples of 5\n",
      "multiples of 3\n",
      "22\n",
      "23\n",
      "multiples of 3\n",
      "multiples of 5\n",
      "26\n",
      "multiples of 3\n",
      "28\n",
      "29\n",
      "multiples of 3 and 5\n",
      "31\n",
      "32\n",
      "multiples of 3\n",
      "34\n",
      "multiples of 5\n",
      "multiples of 3\n",
      "37\n",
      "38\n",
      "multiples of 3\n",
      "multiples of 5\n",
      "41\n",
      "multiples of 3\n",
      "43\n",
      "44\n",
      "multiples of 3 and 5\n",
      "46\n",
      "47\n",
      "multiples of 3\n",
      "49\n",
      "multiples of 5\n",
      "multiples of 3\n",
      "52\n",
      "53\n",
      "multiples of 3\n",
      "multiples of 5\n",
      "56\n",
      "multiples of 3\n",
      "58\n",
      "59\n",
      "multiples of 3 and 5\n",
      "61\n",
      "62\n",
      "multiples of 3\n",
      "64\n",
      "multiples of 5\n",
      "multiples of 3\n",
      "67\n",
      "68\n",
      "multiples of 3\n",
      "multiples of 5\n",
      "71\n",
      "multiples of 3\n",
      "73\n",
      "74\n",
      "multiples of 3 and 5\n",
      "76\n",
      "77\n",
      "multiples of 3\n",
      "79\n",
      "multiples of 5\n",
      "multiples of 3\n",
      "82\n",
      "83\n",
      "multiples of 3\n",
      "multiples of 5\n",
      "86\n",
      "multiples of 3\n",
      "88\n",
      "89\n",
      "multiples of 3 and 5\n",
      "91\n",
      "92\n",
      "multiples of 3\n",
      "94\n",
      "multiples of 5\n",
      "multiples of 3\n",
      "97\n",
      "98\n",
      "multiples of 3\n",
      "multiples of 5\n"
     ]
    }
   ],
   "source": [
    "for num in range (1,101):\n",
    " if num % 3 == 0 and num % 5 == 0:\n",
    "    print ('multiples of 3 and 5')  \n",
    " elif num % 3 == 0:\n",
    "    print ('multiples of 3')\n",
    " elif num % 5 == 0:\n",
    "    print ('multiples of 5')\n",
    " else: print (num)"
   ]
  },
  {
   "cell_type": "code",
   "execution_count": null,
   "metadata": {},
   "outputs": [],
   "source": [
    "# Write a program that prints out the sum of values between 1 and 100."
   ]
  },
  {
   "cell_type": "code",
   "execution_count": 4,
   "metadata": {},
   "outputs": [
    {
     "name": "stdout",
     "output_type": "stream",
     "text": [
      "5050\n"
     ]
    }
   ],
   "source": [
    "sum = 0\n",
    "for i in range (1, 101):\n",
    "    sum+=i\n",
    "print (sum)\n",
    "    "
   ]
  },
  {
   "cell_type": "code",
   "execution_count": null,
   "metadata": {},
   "outputs": [],
   "source": []
  },
  {
   "cell_type": "code",
   "execution_count": 5,
   "metadata": {},
   "outputs": [
    {
     "name": "stdout",
     "output_type": "stream",
     "text": [
      "mention a number?10\n",
      "even\n"
     ]
    }
   ],
   "source": [
    "Number = int(input('mention a number?'))\n",
    "if 'even':\n",
    "    print ('even')\n",
    "else:\n",
    "    print ('odd')"
   ]
  },
  {
   "cell_type": "code",
   "execution_count": null,
   "metadata": {},
   "outputs": [],
   "source": [
    "Write a Python program to convert temperatures to and from celsius, fahrenheit. [Formula : c/5 = f-32/9 [ where c = temperature in celsius and f = temperature in fahrenheit]"
   ]
  },
  {
   "cell_type": "code",
   "execution_count": null,
   "metadata": {},
   "outputs": [
    {
     "name": "stdout",
     "output_type": "stream",
     "text": [
      "temprature in celsius100\n"
     ]
    }
   ],
   "source": [
    "c = float(input('temprature in celsius'))\n",
    "f = float(input('temprature in fahrenheit'))\n",
    "if c/5 == f-32/9:\n",
    " print (f)\n",
    " \n"
   ]
  },
  {
   "cell_type": "code",
   "execution_count": null,
   "metadata": {},
   "outputs": [],
   "source": []
  }
 ],
 "metadata": {
  "kernelspec": {
   "display_name": "Python 3",
   "language": "python",
   "name": "python3"
  },
  "language_info": {
   "codemirror_mode": {
    "name": "ipython",
    "version": 3
   },
   "file_extension": ".py",
   "mimetype": "text/x-python",
   "name": "python",
   "nbconvert_exporter": "python",
   "pygments_lexer": "ipython3",
   "version": "3.6.4"
  }
 },
 "nbformat": 4,
 "nbformat_minor": 2
}
